{
  "cells": [
    {
      "cell_type": "code",
      "execution_count": null,
      "metadata": {
        "colab": {
          "base_uri": "https://localhost:8080/"
        },
        "id": "1LnlUGxayuOg",
        "outputId": "45120404-c4b8-4ee9-be0a-a75730703300"
      },
      "outputs": [],
      "source": [
        "!git clone https://github.com/ManuelZ/image-search-engine.git"
      ]
    },
    {
      "cell_type": "code",
      "execution_count": null,
      "metadata": {
        "id": "2nHxCe2SyMcA"
      },
      "outputs": [],
      "source": [
        "!wget --no-clobber <<FILL ME>>\n",
        "!wget --no-clobber <<FILL ME>>\n",
        "!unzip -nq <<FILL ME>>.zip\n",
        "!unzip -nq <<FILL ME>>.zip"
      ]
    },
    {
      "cell_type": "code",
      "execution_count": null,
      "metadata": {
        "id": "DQbtsK0EEH1F"
      },
      "outputs": [],
      "source": [
        "!pip install --quiet --upgrade pip"
      ]
    },
    {
      "cell_type": "markdown",
      "metadata": {},
      "source": [
        "### Change directory to be able to make the imports"
      ]
    },
    {
      "cell_type": "code",
      "execution_count": null,
      "metadata": {},
      "outputs": [],
      "source": [
        "import os\n",
        "os.chdir(r'/<<FILL ME>>/image-search-engine/backend')"
      ]
    },
    {
      "cell_type": "code",
      "execution_count": null,
      "metadata": {},
      "outputs": [],
      "source": [
        "# External imports\n",
        "import tensorflow as tf\n",
        "import cv2\n",
        "\n",
        "# Local imports\n",
        "import siamese.config as config\n",
        "from siamese.dataset import CommonMapFunction\n",
        "from siamese.create_index import create_faiss_index, create_manual_index, create_one_head_net\n",
        "from siamese.test_index import read_index, query_index, display_query_results"
      ]
    },
    {
      "cell_type": "code",
      "execution_count": null,
      "metadata": {},
      "outputs": [],
      "source": [
        "config.OUTPUT_PATH.mkdir(parents=True, exist_ok=True)"
      ]
    },
    {
      "cell_type": "code",
      "execution_count": null,
      "metadata": {
        "colab": {
          "base_uri": "https://localhost:8080/"
        },
        "id": "uQX5Cs4XD-FB",
        "outputId": "d56217f4-b888-44c6-a3bd-646d786bf359"
      },
      "outputs": [],
      "source": [
        "!pip install --quiet -r siamese/requirements.txt"
      ]
    },
    {
      "cell_type": "code",
      "execution_count": null,
      "metadata": {
        "id": "f17B54AS2SBv"
      },
      "outputs": [],
      "source": [
        "!python -m siamese.train"
      ]
    },
    {
      "cell_type": "markdown",
      "metadata": {},
      "source": [
        "### Create index"
      ]
    },
    {
      "cell_type": "code",
      "execution_count": null,
      "metadata": {},
      "outputs": [],
      "source": [
        "model_path = config.LOAD_MODEL_PATH\n",
        "data_path = config.DATA_SUBSET\n",
        "\n",
        "if config.INDEX_TYPE == \"faiss\":\n",
        "    create_faiss_index(model_path, data_path)\n",
        "elif config.INDEX_TYPE == \"dict\":\n",
        "    create_manual_index(model_path, data_path)"
      ]
    },
    {
      "cell_type": "markdown",
      "metadata": {},
      "source": [
        "### Test index"
      ]
    },
    {
      "cell_type": "code",
      "execution_count": null,
      "metadata": {
        "id": "FgqGAdBoZZZi"
      },
      "outputs": [],
      "source": [
        "one_head_net = create_one_head_net(config.LOAD_MODEL_PATH)\n",
        "map_fun = CommonMapFunction(config.IMAGE_SIZE)\n",
        "\n",
        "query_paths = list(config.QUERY_DATASET.rglob(\"**/*.[jp][pn]g\"))\n",
        "print(f\"There are {len(query_paths)} images for querying.\")\n",
        "\n",
        "index = read_index()\n",
        "\n",
        "for query_path in query_paths:\n",
        "\n",
        "    # Load and preprocess image\n",
        "    image = map_fun.decode_and_resize(str(query_path))\n",
        "\n",
        "    # Add batch dimension\n",
        "    image = tf.expand_dims(image, 0, name=None)\n",
        "\n",
        "    # Extract embeddings\n",
        "    embedding = one_head_net(image).numpy()\n",
        "\n",
        "    indices, distances = query_index(\n",
        "        embedding, index, config.INDEX_TYPE, config.N_RESULTS\n",
        "    )\n",
        "\n",
        "    # Display query and results\n",
        "    im_query = cv2.imread(str(query_path))\n",
        "    im_query = cv2.cvtColor(im_query, cv2.COLOR_BGR2RGB)\n",
        "    display_query_results(im_query, distances, indices)"
      ]
    }
  ],
  "metadata": {
    "accelerator": "GPU",
    "colab": {
      "gpuType": "T4",
      "provenance": []
    },
    "kernelspec": {
      "display_name": "Python 3",
      "name": "python3"
    },
    "language_info": {
      "codemirror_mode": {
        "name": "ipython",
        "version": 3
      },
      "file_extension": ".py",
      "mimetype": "text/x-python",
      "name": "python",
      "nbconvert_exporter": "python",
      "pygments_lexer": "ipython3",
      "version": "3.11.6"
    }
  },
  "nbformat": 4,
  "nbformat_minor": 0
}
