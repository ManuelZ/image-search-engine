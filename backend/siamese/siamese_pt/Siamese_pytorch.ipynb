{
 "cells": [
  {
   "cell_type": "markdown",
   "metadata": {},
   "source": [
    "#### Clone repository"
   ]
  },
  {
   "cell_type": "code",
   "execution_count": null,
   "metadata": {},
   "outputs": [],
   "source": [
    "!git clone https://github.com/ManuelZ/image-search-engine.git"
   ]
  },
  {
   "cell_type": "markdown",
   "metadata": {},
   "source": [
    "#### Download data"
   ]
  },
  {
   "cell_type": "code",
   "execution_count": null,
   "metadata": {},
   "outputs": [],
   "source": [
    "!wget -nc <<FILL ME>>/oracle-cards.zip\n",
    "!wget -nc <<FILL ME>>/oracle-cards-subset.zip"
   ]
  },
  {
   "cell_type": "markdown",
   "metadata": {},
   "source": [
    "#### Unzip data"
   ]
  },
  {
   "cell_type": "code",
   "execution_count": null,
   "metadata": {},
   "outputs": [],
   "source": [
    "!apt update && apt install -y unzip\n",
    "!unzip -nq oracle-cards.zip\n",
    "!unzip -nq oracle-cards-subset.zip"
   ]
  },
  {
   "cell_type": "markdown",
   "metadata": {},
   "source": [
    "#### Change directory"
   ]
  },
  {
   "cell_type": "code",
   "execution_count": null,
   "metadata": {},
   "outputs": [],
   "source": [
    "import os\n",
    "os.chdir(r'/workspace/image-search-engine/backend')"
   ]
  },
  {
   "cell_type": "markdown",
   "metadata": {},
   "source": [
    "#### Install requirements"
   ]
  },
  {
   "cell_type": "code",
   "execution_count": null,
   "metadata": {},
   "outputs": [],
   "source": [
    "!pip install --quiet --upgrade pip && pip install --quiet -r siamese/requirements.txt"
   ]
  },
  {
   "cell_type": "code",
   "execution_count": null,
   "metadata": {},
   "outputs": [],
   "source": [
    "# External imports\n",
    "import cv2\n",
    "import torch \n",
    "import faiss\n",
    "import matplotlib.pyplot as plt\n",
    "\n",
    "# Local imports\n",
    "from siamese.siamese_pt.model import create_model\n",
    "from siamese.siamese_pt.dataset import common_transforms\n",
    "from siamese.siamese_pt.create_index import create_faiss_index\n",
    "from siamese.siamese_pt.train import train_dataset\n",
    "from siamese.test_index import read_index, query_index, display_query_results\n",
    "from siamese.utils import torch_to_cv2, denormalize, get_image_paths\n",
    "import siamese.config as config"
   ]
  },
  {
   "cell_type": "markdown",
   "metadata": {},
   "source": [
    "#### Visualize augmentations"
   ]
  },
  {
   "cell_type": "code",
   "execution_count": null,
   "metadata": {},
   "outputs": [],
   "source": [
    "fig = plt.figure(figsize=(12, 6))  # w,h\n",
    "\n",
    "for i, (original, positive) in enumerate(train_dataset):\n",
    "    \n",
    "    original = denormalize(original)\n",
    "    original = torch_to_cv2(original)\n",
    "\n",
    "    positive = denormalize(positive)\n",
    "    positive = torch_to_cv2(positive)\n",
    "\n",
    "    fig = plt.figure(figsize=(12, 8))  # w,h\n",
    "    \n",
    "    plt.subplot(2, 2, 1)\n",
    "    plt.imshow(original)\n",
    "    plt.title(\"original\")\n",
    "\n",
    "    plt.subplot(2, 2, 2)\n",
    "    plt.imshow(positive)\n",
    "    plt.title(\"positive\")\n",
    "\n",
    "    plt.tight_layout()\n",
    "    if i == 10: break\n",
    "\n",
    "plt.show()"
   ]
  },
  {
   "cell_type": "markdown",
   "metadata": {},
   "source": [
    "#### Train"
   ]
  },
  {
   "cell_type": "code",
   "execution_count": null,
   "metadata": {},
   "outputs": [],
   "source": [
    "!python -m siamese.siamese_pt.train"
   ]
  },
  {
   "cell_type": "markdown",
   "metadata": {},
   "source": [
    "#### Create index"
   ]
  },
  {
   "cell_type": "code",
   "execution_count": null,
   "metadata": {},
   "outputs": [],
   "source": [
    "model = create_model()\n",
    "checkpoint = torch.load(config.LOAD_MODEL_PATH_PT, weights_only=True)\n",
    "model.load_state_dict(checkpoint[\"model_state_dict\"])\n",
    "model.eval()\n",
    "\n",
    "create_faiss_index(model, config.DATA, config.FAISS_INDEX_PATH)"
   ]
  },
  {
   "cell_type": "markdown",
   "metadata": {},
   "source": [
    "#### Test index"
   ]
  },
  {
   "cell_type": "code",
   "execution_count": null,
   "metadata": {},
   "outputs": [],
   "source": [
    "model = create_model()\n",
    "checkpoint = torch.load(config.LOAD_MODEL_PATH_PT, weights_only=True)\n",
    "model.load_state_dict(checkpoint[\"model_state_dict\"])\n",
    "model.eval()\n",
    "\n",
    "device = torch.device(\"cuda\" if torch.cuda.is_available() else \"cpu\")\n",
    "query_paths = get_image_paths(config.QUERY_DATASET)\n",
    "print(f\"There are {len(query_paths)} images for querying.\")\n",
    "\n",
    "index = read_index()\n",
    "for impath in query_paths:\n",
    "    image = cv2.imread(impath)\n",
    "    image = cv2.cvtColor(image, cv2.COLOR_BGR2RGB)\n",
    "    image = common_transforms(image=image)[\"image\"]\n",
    "    image = image.to(device, dtype=torch.float32)\n",
    "    image = image.unsqueeze(0)\n",
    "    embedding = model(image)\n",
    "    embedding = embedding.detach().cpu().numpy()\n",
    "    faiss.normalize_L2(embedding)\n",
    "\n",
    "    indices, distances = query_index(\n",
    "        embedding, index, config.INDEX_TYPE, n_results=4\n",
    "    )\n",
    "\n",
    "    image = denormalize(image)\n",
    "    image = torch_to_cv2(image)\n",
    "    display_query_results(image, distances, indices, nrows=1, ncols=5)"
   ]
  }
 ],
 "metadata": {
  "kernelspec": {
   "display_name": "Python 3 (ipykernel)",
   "language": "python",
   "name": "python3"
  },
  "language_info": {
   "codemirror_mode": {
    "name": "ipython",
    "version": 3
   },
   "file_extension": ".py",
   "mimetype": "text/x-python",
   "name": "python",
   "nbconvert_exporter": "python",
   "pygments_lexer": "ipython3",
   "version": "3.11.6"
  }
 },
 "nbformat": 4,
 "nbformat_minor": 4
}
