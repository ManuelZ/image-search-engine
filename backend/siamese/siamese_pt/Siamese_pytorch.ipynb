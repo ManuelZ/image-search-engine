{
 "cells": [
  {
   "cell_type": "code",
   "execution_count": null,
   "metadata": {},
   "outputs": [],
   "source": [
    "import os\n",
    "os.chdir(r'<<FILLME/backend>>')"
   ]
  },
  {
   "cell_type": "code",
   "execution_count": null,
   "metadata": {},
   "outputs": [],
   "source": [
    "import cv2\n",
    "import torch \n",
    "import faiss\n",
    "\n",
    "# Local imports\n",
    "from siamese.siamese_pt.model import create_model\n",
    "from siamese.siamese_pt.dataset import common_transforms\n",
    "from siamese.test_index import read_index, query_index, display_query_results\n",
    "from siamese.utils import torch_to_cv2, denormalize\n",
    "from siamese.siamese_pt.dataset import common_transforms\n",
    "import siamese.config as config\n",
    "\n",
    "\n",
    "device = torch.device(\"cuda\" if torch.cuda.is_available() else \"cpu\")\n",
    "\n",
    "model = create_model()\n",
    "model.load_state_dict(torch.load(\"densenet121_model.pth\"))\n",
    "model.eval()\n",
    "\n",
    "query_paths = list(config.QUERY_DATASET.rglob(\"**/*.[jp][pn]g\"))\n",
    "print(f\"There are {len(query_paths)} images for querying.\")\n",
    "\n",
    "index = read_index()\n",
    "for impath in query_paths:\n",
    "    image = cv2.imread(impath)\n",
    "    image = cv2.cvtColor(image, cv2.COLOR_BGR2RGB)\n",
    "    image = common_transforms(image=image)[\"image\"]\n",
    "    image = image.to(device, dtype=torch.float32)\n",
    "    image = image.unsqueeze(0)\n",
    "    embedding = model(image)\n",
    "    embedding = embedding.detach().cpu().numpy()\n",
    "    faiss.normalize_L2(embedding)\n",
    "\n",
    "    indices, distances = query_index(\n",
    "        embedding, index, config.INDEX_TYPE, config.N_RESULTS\n",
    "    )\n",
    "\n",
    "    image = denormalize(image)\n",
    "    image = torch_to_cv2(image)\n",
    "    display_query_results(image, distances, indices)"
   ]
  },
  {
   "cell_type": "code",
   "execution_count": null,
   "metadata": {},
   "outputs": [],
   "source": []
  }
 ],
 "metadata": {
  "kernelspec": {
   "display_name": "opencv",
   "language": "python",
   "name": "python3"
  },
  "language_info": {
   "codemirror_mode": {
    "name": "ipython",
    "version": 3
   },
   "file_extension": ".py",
   "mimetype": "text/x-python",
   "name": "python",
   "nbconvert_exporter": "python",
   "pygments_lexer": "ipython3",
   "version": "3.11.6"
  }
 },
 "nbformat": 4,
 "nbformat_minor": 2
}
